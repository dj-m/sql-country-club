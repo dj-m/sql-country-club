{
 "cells": [
  {
   "cell_type": "markdown",
   "metadata": {},
   "source": [
    "# SQLite Instance for Country Club Data Set #"
   ]
  },
  {
   "cell_type": "code",
   "execution_count": 55,
   "metadata": {},
   "outputs": [],
   "source": [
    "#importing packages\n",
    "import pandas as pd\n",
    "from sqlalchemy import create_engine"
   ]
  },
  {
   "cell_type": "code",
   "execution_count": 53,
   "metadata": {},
   "outputs": [],
   "source": [
    "#creating engine\n",
    "engine = create_engine('sqlite:///sqlite_db_pythonsqlite.db')"
   ]
  },
  {
   "cell_type": "code",
   "execution_count": 58,
   "metadata": {},
   "outputs": [
    {
     "name": "stdout",
     "output_type": "stream",
     "text": [
      "['Bookings', 'Facilities', 'Members']\n"
     ]
    }
   ],
   "source": [
    "#printing table names\n",
    "table_names = engine.table_names()\n",
    "print(table_names)"
   ]
  },
  {
   "cell_type": "markdown",
   "metadata": {},
   "source": [
    "### Q10: Produce a list of facilities with a total revenue less than 1000. The output of facility name and total revenue, sorted by revenue. Remember that there's a different cost for guests and members! ###"
   ]
  },
  {
   "cell_type": "code",
   "execution_count": 72,
   "metadata": {},
   "outputs": [],
   "source": [
    "#creating DataFrame for Q10\n",
    "df_revenue = pd.read_sql_query(\"select name, \\\n",
    "                                sum(case when memid = 0 then slots * guestcost else slots * membercost end) as revenue \\\n",
    "                                from Bookings \\\n",
    "                                left join Facilities \\\n",
    "                                using(facid) \\\n",
    "                                group by name \\\n",
    "                                having revenue < 1000;\", engine)"
   ]
  },
  {
   "cell_type": "code",
   "execution_count": 73,
   "metadata": {},
   "outputs": [
    {
     "data": {
      "text/html": [
       "<div>\n",
       "<style scoped>\n",
       "    .dataframe tbody tr th:only-of-type {\n",
       "        vertical-align: middle;\n",
       "    }\n",
       "\n",
       "    .dataframe tbody tr th {\n",
       "        vertical-align: top;\n",
       "    }\n",
       "\n",
       "    .dataframe thead th {\n",
       "        text-align: right;\n",
       "    }\n",
       "</style>\n",
       "<table border=\"1\" class=\"dataframe\">\n",
       "  <thead>\n",
       "    <tr style=\"text-align: right;\">\n",
       "      <th></th>\n",
       "      <th>name</th>\n",
       "      <th>revenue</th>\n",
       "    </tr>\n",
       "  </thead>\n",
       "  <tbody>\n",
       "    <tr>\n",
       "      <th>0</th>\n",
       "      <td>Pool Table</td>\n",
       "      <td>270</td>\n",
       "    </tr>\n",
       "    <tr>\n",
       "      <th>1</th>\n",
       "      <td>Snooker Table</td>\n",
       "      <td>240</td>\n",
       "    </tr>\n",
       "    <tr>\n",
       "      <th>2</th>\n",
       "      <td>Table Tennis</td>\n",
       "      <td>180</td>\n",
       "    </tr>\n",
       "  </tbody>\n",
       "</table>\n",
       "</div>"
      ],
      "text/plain": [
       "            name  revenue\n",
       "0     Pool Table      270\n",
       "1  Snooker Table      240\n",
       "2   Table Tennis      180"
      ]
     },
     "execution_count": 73,
     "metadata": {},
     "output_type": "execute_result"
    }
   ],
   "source": [
    "df_revenue.head()"
   ]
  },
  {
   "cell_type": "markdown",
   "metadata": {},
   "source": [
    "### Q11: Produce a report of members and who recommended them in alphabetic surname,firstname order ###"
   ]
  },
  {
   "cell_type": "code",
   "execution_count": 75,
   "metadata": {},
   "outputs": [],
   "source": [
    "#creating DataFrame for Q11\n",
    "df_rec = pd.read_sql_query(\"select a.surname || ', ' || a.firstname as members, \\\n",
    "                            b.surname || ', ' || b.firstname as recommended_by \\\n",
    "                            from Members a, Members b \\\n",
    "                            where a.recommendedby >0 and a.recommendedby = b.memid \\\n",
    "                            order by b.surname;\", engine)"
   ]
  },
  {
   "cell_type": "code",
   "execution_count": 76,
   "metadata": {},
   "outputs": [
    {
     "data": {
      "text/html": [
       "<div>\n",
       "<style scoped>\n",
       "    .dataframe tbody tr th:only-of-type {\n",
       "        vertical-align: middle;\n",
       "    }\n",
       "\n",
       "    .dataframe tbody tr th {\n",
       "        vertical-align: top;\n",
       "    }\n",
       "\n",
       "    .dataframe thead th {\n",
       "        text-align: right;\n",
       "    }\n",
       "</style>\n",
       "<table border=\"1\" class=\"dataframe\">\n",
       "  <thead>\n",
       "    <tr style=\"text-align: right;\">\n",
       "      <th></th>\n",
       "      <th>members</th>\n",
       "      <th>recommended_by</th>\n",
       "    </tr>\n",
       "  </thead>\n",
       "  <tbody>\n",
       "    <tr>\n",
       "      <th>0</th>\n",
       "      <td>Sarwin, Ramnaresh</td>\n",
       "      <td>Bader, Florence</td>\n",
       "    </tr>\n",
       "    <tr>\n",
       "      <th>1</th>\n",
       "      <td>Coplin, Joan</td>\n",
       "      <td>Baker, Timothy</td>\n",
       "    </tr>\n",
       "    <tr>\n",
       "      <th>2</th>\n",
       "      <td>Genting, Matthew</td>\n",
       "      <td>Butters, Gerald</td>\n",
       "    </tr>\n",
       "    <tr>\n",
       "      <th>3</th>\n",
       "      <td>Baker, Timothy</td>\n",
       "      <td>Farrell, Jemima</td>\n",
       "    </tr>\n",
       "    <tr>\n",
       "      <th>4</th>\n",
       "      <td>Pinker, David</td>\n",
       "      <td>Farrell, Jemima</td>\n",
       "    </tr>\n",
       "    <tr>\n",
       "      <th>5</th>\n",
       "      <td>Rumney, Henrietta</td>\n",
       "      <td>Genting, Matthew</td>\n",
       "    </tr>\n",
       "    <tr>\n",
       "      <th>6</th>\n",
       "      <td>Jones, Douglas</td>\n",
       "      <td>Jones, David</td>\n",
       "    </tr>\n",
       "    <tr>\n",
       "      <th>7</th>\n",
       "      <td>Dare, Nancy</td>\n",
       "      <td>Joplette, Janice</td>\n",
       "    </tr>\n",
       "    <tr>\n",
       "      <th>8</th>\n",
       "      <td>Jones, David</td>\n",
       "      <td>Joplette, Janice</td>\n",
       "    </tr>\n",
       "    <tr>\n",
       "      <th>9</th>\n",
       "      <td>Hunt, John</td>\n",
       "      <td>Purview, Millicent</td>\n",
       "    </tr>\n",
       "    <tr>\n",
       "      <th>10</th>\n",
       "      <td>Boothe, Tim</td>\n",
       "      <td>Rownam, Tim</td>\n",
       "    </tr>\n",
       "    <tr>\n",
       "      <th>11</th>\n",
       "      <td>Joplette, Janice</td>\n",
       "      <td>Smith, Darren</td>\n",
       "    </tr>\n",
       "    <tr>\n",
       "      <th>12</th>\n",
       "      <td>Butters, Gerald</td>\n",
       "      <td>Smith, Darren</td>\n",
       "    </tr>\n",
       "    <tr>\n",
       "      <th>13</th>\n",
       "      <td>Owen, Charles</td>\n",
       "      <td>Smith, Darren</td>\n",
       "    </tr>\n",
       "    <tr>\n",
       "      <th>14</th>\n",
       "      <td>Smith, Jack</td>\n",
       "      <td>Smith, Darren</td>\n",
       "    </tr>\n",
       "    <tr>\n",
       "      <th>15</th>\n",
       "      <td>Mackenzie, Anna</td>\n",
       "      <td>Smith, Darren</td>\n",
       "    </tr>\n",
       "    <tr>\n",
       "      <th>16</th>\n",
       "      <td>Worthington-Smyth, Henry</td>\n",
       "      <td>Smith, Tracy</td>\n",
       "    </tr>\n",
       "    <tr>\n",
       "      <th>17</th>\n",
       "      <td>Purview, Millicent</td>\n",
       "      <td>Smith, Tracy</td>\n",
       "    </tr>\n",
       "    <tr>\n",
       "      <th>18</th>\n",
       "      <td>Crumpet, Erica</td>\n",
       "      <td>Smith, Tracy</td>\n",
       "    </tr>\n",
       "    <tr>\n",
       "      <th>19</th>\n",
       "      <td>Baker, Anne</td>\n",
       "      <td>Stibbons, Ponder</td>\n",
       "    </tr>\n",
       "    <tr>\n",
       "      <th>20</th>\n",
       "      <td>Bader, Florence</td>\n",
       "      <td>Stibbons, Ponder</td>\n",
       "    </tr>\n",
       "    <tr>\n",
       "      <th>21</th>\n",
       "      <td>Stibbons, Ponder</td>\n",
       "      <td>Tracy, Burton</td>\n",
       "    </tr>\n",
       "  </tbody>\n",
       "</table>\n",
       "</div>"
      ],
      "text/plain": [
       "                     members      recommended_by\n",
       "0          Sarwin, Ramnaresh     Bader, Florence\n",
       "1               Coplin, Joan      Baker, Timothy\n",
       "2           Genting, Matthew     Butters, Gerald\n",
       "3             Baker, Timothy     Farrell, Jemima\n",
       "4              Pinker, David     Farrell, Jemima\n",
       "5          Rumney, Henrietta    Genting, Matthew\n",
       "6             Jones, Douglas        Jones, David\n",
       "7                Dare, Nancy    Joplette, Janice\n",
       "8               Jones, David    Joplette, Janice\n",
       "9                 Hunt, John  Purview, Millicent\n",
       "10               Boothe, Tim         Rownam, Tim\n",
       "11          Joplette, Janice       Smith, Darren\n",
       "12           Butters, Gerald       Smith, Darren\n",
       "13             Owen, Charles       Smith, Darren\n",
       "14               Smith, Jack       Smith, Darren\n",
       "15           Mackenzie, Anna       Smith, Darren\n",
       "16  Worthington-Smyth, Henry        Smith, Tracy\n",
       "17        Purview, Millicent        Smith, Tracy\n",
       "18            Crumpet, Erica        Smith, Tracy\n",
       "19               Baker, Anne    Stibbons, Ponder\n",
       "20           Bader, Florence    Stibbons, Ponder\n",
       "21          Stibbons, Ponder       Tracy, Burton"
      ]
     },
     "execution_count": 76,
     "metadata": {},
     "output_type": "execute_result"
    }
   ],
   "source": [
    "df_rec"
   ]
  },
  {
   "cell_type": "markdown",
   "metadata": {},
   "source": []
  },
  {
   "cell_type": "code",
   "execution_count": null,
   "metadata": {},
   "outputs": [],
   "source": []
  }
 ],
 "metadata": {
  "kernelspec": {
   "display_name": "Python 3",
   "language": "python",
   "name": "python3"
  },
  "language_info": {
   "codemirror_mode": {
    "name": "ipython",
    "version": 3
   },
   "file_extension": ".py",
   "mimetype": "text/x-python",
   "name": "python",
   "nbconvert_exporter": "python",
   "pygments_lexer": "ipython3",
   "version": "3.8.4"
  }
 },
 "nbformat": 4,
 "nbformat_minor": 4
}
